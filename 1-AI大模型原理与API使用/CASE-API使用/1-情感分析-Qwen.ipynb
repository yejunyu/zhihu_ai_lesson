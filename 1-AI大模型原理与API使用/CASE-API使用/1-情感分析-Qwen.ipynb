{
 "cells": [
  {
   "cell_type": "code",
   "execution_count": 1,
   "id": "d2d11d44-fa60-4e87-a1de-f393320551d9",
   "metadata": {},
   "outputs": [
    {
     "data": {
      "text/plain": [
       "'负向'"
      ]
     },
     "execution_count": 1,
     "metadata": {},
     "output_type": "execute_result"
    }
   ],
   "source": [
    "import json\n",
    "import os\n",
    "import dashscope\n",
    "from dashscope.api_entities.dashscope_response import Role\n",
    "\n",
    "dashscope.api_key = \"sk-9f56dae62cb445ffb2ef84e8304dcb35\"\n",
    "\n",
    "\n",
    "# 封装模型响应函数\n",
    "def get_response(messages):\n",
    "    response = dashscope.Generation.call(\n",
    "        model=\"qwen-turbo\",\n",
    "        messages=messages,\n",
    "        result_format=\"message\",  # 将输出设置为message形式\n",
    "    )\n",
    "    return response\n",
    "\n",
    "\n",
    "review = \"这款音效特别好 给你意想不到的音质。才怪\"\n",
    "messages = [\n",
    "    {\n",
    "        \"role\": \"system\",\n",
    "        \"content\": \"你是一名舆情分析师，帮我判断产品口碑的正负向，回复请用一个词语：正向 或者 负向\",\n",
    "    },\n",
    "    {\"role\": \"user\", \"content\": review},\n",
    "]\n",
    "\n",
    "response = get_response(messages)\n",
    "response.output.choices[0].message.content"
   ]
  }
 ],
 "metadata": {
  "kernelspec": {
   "display_name": "Python 3",
   "language": "python",
   "name": "python3"
  },
  "language_info": {
   "codemirror_mode": {
    "name": "ipython",
    "version": 3
   },
   "file_extension": ".py",
   "mimetype": "text/x-python",
   "name": "python",
   "nbconvert_exporter": "python",
   "pygments_lexer": "ipython3",
   "version": "3.13.3"
  }
 },
 "nbformat": 4,
 "nbformat_minor": 5
}
