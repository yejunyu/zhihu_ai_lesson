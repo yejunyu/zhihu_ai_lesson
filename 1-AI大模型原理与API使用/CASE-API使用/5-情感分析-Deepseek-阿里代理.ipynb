{
 "cells": [
  {
   "cell_type": "code",
   "execution_count": null,
   "id": "2d000c6f-b435-4224-9fca-2a46492648e0",
   "metadata": {},
   "outputs": [
    {
     "name": "stdout",
     "output_type": "stream",
     "text": [
      "抱歉，我无法提供实时的新闻更新。不过，您可以通过访问可靠的新闻网站或使用新闻应用程序来获取最新的国际新闻。一些常用的新闻平台包括BBC、CNN、Reuters和Al Jazeera等。\n"
     ]
    }
   ],
   "source": [
    "import dashscope\n",
    "from dashscope.api_entities.dashscope_response import Role\n",
    "\n",
    "dashscope.api_key = \"sk-9f56dae62cb445ffb2ef84e8304dcb35\"\n",
    "\n",
    "\n",
    "# 封装模型响应函数\n",
    "def get_response(messages):\n",
    "    response = dashscope.Generation.call(\n",
    "        model=\"deepseek-r1\",  # 使用 deepseek-r1 模型\n",
    "        messages=messages,\n",
    "        result_format=\"message\",  # 将输出设置为message形式\n",
    "    )\n",
    "    return response\n",
    "\n",
    "\n",
    "# 测试对话\n",
    "messages = [\n",
    "    {\"role\": \"system\", \"content\": \"You are a helpful assistant\"},\n",
    "    {\"role\": \"user\", \"content\": \"今天国际有什么新闻吗\"},\n",
    "]\n",
    "response = get_response(messages)\n",
    "print(response.output.choices[0].message.content)"
   ]
  }
 ],
 "metadata": {
  "kernelspec": {
   "display_name": "base",
   "language": "python",
   "name": "python3"
  },
  "language_info": {
   "codemirror_mode": {
    "name": "ipython",
    "version": 3
   },
   "file_extension": ".py",
   "mimetype": "text/x-python",
   "name": "python",
   "nbconvert_exporter": "python",
   "pygments_lexer": "ipython3",
   "version": "3.13.2"
  }
 },
 "nbformat": 4,
 "nbformat_minor": 5
}
